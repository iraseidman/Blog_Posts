{
 "cells": [
  {
   "cell_type": "code",
   "execution_count": 1,
   "metadata": {},
   "outputs": [],
   "source": [
    "# Imports\n",
    "import pandas as pd\n",
    "import numpy as np\n",
    "import matplotlib.pyplot as plt\n",
    "import seaborn as sns\n",
    "\n",
    "import sklearn.datasets\n",
    "\n",
    "from sklearn.model_selection import train_test_split\n",
    "\n",
    "from sklearn.linear_model import LogisticRegression\n",
    "from sklearn.linear_model import LinearRegression\n",
    "\n",
    "from sklearn.metrics import accuracy_score"
   ]
  },
  {
   "cell_type": "code",
   "execution_count": 2,
   "metadata": {},
   "outputs": [],
   "source": [
    "bc_dataset = sklearn.datasets.load_breast_cancer() #binary-class example"
   ]
  },
  {
   "cell_type": "code",
   "execution_count": 3,
   "metadata": {},
   "outputs": [
    {
     "data": {
      "text/html": [
       "<div>\n",
       "<style scoped>\n",
       "    .dataframe tbody tr th:only-of-type {\n",
       "        vertical-align: middle;\n",
       "    }\n",
       "\n",
       "    .dataframe tbody tr th {\n",
       "        vertical-align: top;\n",
       "    }\n",
       "\n",
       "    .dataframe thead th {\n",
       "        text-align: right;\n",
       "    }\n",
       "</style>\n",
       "<table border=\"1\" class=\"dataframe\">\n",
       "  <thead>\n",
       "    <tr style=\"text-align: right;\">\n",
       "      <th></th>\n",
       "      <th>mean_radius</th>\n",
       "      <th>mean_texture</th>\n",
       "      <th>mean_perimeter</th>\n",
       "      <th>mean_area</th>\n",
       "      <th>mean_smoothness</th>\n",
       "      <th>mean_compactness</th>\n",
       "      <th>mean_concavity</th>\n",
       "      <th>mean_concave_points</th>\n",
       "      <th>mean_symmetry</th>\n",
       "      <th>mean_fractal_dimension</th>\n",
       "      <th>...</th>\n",
       "      <th>worst_texture</th>\n",
       "      <th>worst_perimeter</th>\n",
       "      <th>worst_area</th>\n",
       "      <th>worst_smoothness</th>\n",
       "      <th>worst_compactness</th>\n",
       "      <th>worst_concavity</th>\n",
       "      <th>worst_concave_points</th>\n",
       "      <th>worst_symmetry</th>\n",
       "      <th>worst_fractal_dimension</th>\n",
       "      <th>cancer</th>\n",
       "    </tr>\n",
       "  </thead>\n",
       "  <tbody>\n",
       "    <tr>\n",
       "      <th>0</th>\n",
       "      <td>17.99</td>\n",
       "      <td>10.38</td>\n",
       "      <td>122.80</td>\n",
       "      <td>1001.0</td>\n",
       "      <td>0.11840</td>\n",
       "      <td>0.27760</td>\n",
       "      <td>0.3001</td>\n",
       "      <td>0.14710</td>\n",
       "      <td>0.2419</td>\n",
       "      <td>0.07871</td>\n",
       "      <td>...</td>\n",
       "      <td>17.33</td>\n",
       "      <td>184.60</td>\n",
       "      <td>2019.0</td>\n",
       "      <td>0.1622</td>\n",
       "      <td>0.6656</td>\n",
       "      <td>0.7119</td>\n",
       "      <td>0.2654</td>\n",
       "      <td>0.4601</td>\n",
       "      <td>0.11890</td>\n",
       "      <td>0</td>\n",
       "    </tr>\n",
       "    <tr>\n",
       "      <th>1</th>\n",
       "      <td>20.57</td>\n",
       "      <td>17.77</td>\n",
       "      <td>132.90</td>\n",
       "      <td>1326.0</td>\n",
       "      <td>0.08474</td>\n",
       "      <td>0.07864</td>\n",
       "      <td>0.0869</td>\n",
       "      <td>0.07017</td>\n",
       "      <td>0.1812</td>\n",
       "      <td>0.05667</td>\n",
       "      <td>...</td>\n",
       "      <td>23.41</td>\n",
       "      <td>158.80</td>\n",
       "      <td>1956.0</td>\n",
       "      <td>0.1238</td>\n",
       "      <td>0.1866</td>\n",
       "      <td>0.2416</td>\n",
       "      <td>0.1860</td>\n",
       "      <td>0.2750</td>\n",
       "      <td>0.08902</td>\n",
       "      <td>0</td>\n",
       "    </tr>\n",
       "    <tr>\n",
       "      <th>2</th>\n",
       "      <td>19.69</td>\n",
       "      <td>21.25</td>\n",
       "      <td>130.00</td>\n",
       "      <td>1203.0</td>\n",
       "      <td>0.10960</td>\n",
       "      <td>0.15990</td>\n",
       "      <td>0.1974</td>\n",
       "      <td>0.12790</td>\n",
       "      <td>0.2069</td>\n",
       "      <td>0.05999</td>\n",
       "      <td>...</td>\n",
       "      <td>25.53</td>\n",
       "      <td>152.50</td>\n",
       "      <td>1709.0</td>\n",
       "      <td>0.1444</td>\n",
       "      <td>0.4245</td>\n",
       "      <td>0.4504</td>\n",
       "      <td>0.2430</td>\n",
       "      <td>0.3613</td>\n",
       "      <td>0.08758</td>\n",
       "      <td>0</td>\n",
       "    </tr>\n",
       "    <tr>\n",
       "      <th>3</th>\n",
       "      <td>11.42</td>\n",
       "      <td>20.38</td>\n",
       "      <td>77.58</td>\n",
       "      <td>386.1</td>\n",
       "      <td>0.14250</td>\n",
       "      <td>0.28390</td>\n",
       "      <td>0.2414</td>\n",
       "      <td>0.10520</td>\n",
       "      <td>0.2597</td>\n",
       "      <td>0.09744</td>\n",
       "      <td>...</td>\n",
       "      <td>26.50</td>\n",
       "      <td>98.87</td>\n",
       "      <td>567.7</td>\n",
       "      <td>0.2098</td>\n",
       "      <td>0.8663</td>\n",
       "      <td>0.6869</td>\n",
       "      <td>0.2575</td>\n",
       "      <td>0.6638</td>\n",
       "      <td>0.17300</td>\n",
       "      <td>0</td>\n",
       "    </tr>\n",
       "    <tr>\n",
       "      <th>4</th>\n",
       "      <td>20.29</td>\n",
       "      <td>14.34</td>\n",
       "      <td>135.10</td>\n",
       "      <td>1297.0</td>\n",
       "      <td>0.10030</td>\n",
       "      <td>0.13280</td>\n",
       "      <td>0.1980</td>\n",
       "      <td>0.10430</td>\n",
       "      <td>0.1809</td>\n",
       "      <td>0.05883</td>\n",
       "      <td>...</td>\n",
       "      <td>16.67</td>\n",
       "      <td>152.20</td>\n",
       "      <td>1575.0</td>\n",
       "      <td>0.1374</td>\n",
       "      <td>0.2050</td>\n",
       "      <td>0.4000</td>\n",
       "      <td>0.1625</td>\n",
       "      <td>0.2364</td>\n",
       "      <td>0.07678</td>\n",
       "      <td>0</td>\n",
       "    </tr>\n",
       "  </tbody>\n",
       "</table>\n",
       "<p>5 rows × 31 columns</p>\n",
       "</div>"
      ],
      "text/plain": [
       "   mean_radius  mean_texture  mean_perimeter  mean_area  mean_smoothness  \\\n",
       "0        17.99         10.38          122.80     1001.0          0.11840   \n",
       "1        20.57         17.77          132.90     1326.0          0.08474   \n",
       "2        19.69         21.25          130.00     1203.0          0.10960   \n",
       "3        11.42         20.38           77.58      386.1          0.14250   \n",
       "4        20.29         14.34          135.10     1297.0          0.10030   \n",
       "\n",
       "   mean_compactness  mean_concavity  mean_concave_points  mean_symmetry  \\\n",
       "0           0.27760          0.3001              0.14710         0.2419   \n",
       "1           0.07864          0.0869              0.07017         0.1812   \n",
       "2           0.15990          0.1974              0.12790         0.2069   \n",
       "3           0.28390          0.2414              0.10520         0.2597   \n",
       "4           0.13280          0.1980              0.10430         0.1809   \n",
       "\n",
       "   mean_fractal_dimension  ...  worst_texture  worst_perimeter  worst_area  \\\n",
       "0                 0.07871  ...          17.33           184.60      2019.0   \n",
       "1                 0.05667  ...          23.41           158.80      1956.0   \n",
       "2                 0.05999  ...          25.53           152.50      1709.0   \n",
       "3                 0.09744  ...          26.50            98.87       567.7   \n",
       "4                 0.05883  ...          16.67           152.20      1575.0   \n",
       "\n",
       "   worst_smoothness  worst_compactness  worst_concavity  worst_concave_points  \\\n",
       "0            0.1622             0.6656           0.7119                0.2654   \n",
       "1            0.1238             0.1866           0.2416                0.1860   \n",
       "2            0.1444             0.4245           0.4504                0.2430   \n",
       "3            0.2098             0.8663           0.6869                0.2575   \n",
       "4            0.1374             0.2050           0.4000                0.1625   \n",
       "\n",
       "   worst_symmetry  worst_fractal_dimension  cancer  \n",
       "0          0.4601                  0.11890       0  \n",
       "1          0.2750                  0.08902       0  \n",
       "2          0.3613                  0.08758       0  \n",
       "3          0.6638                  0.17300       0  \n",
       "4          0.2364                  0.07678       0  \n",
       "\n",
       "[5 rows x 31 columns]"
      ]
     },
     "execution_count": 3,
     "metadata": {},
     "output_type": "execute_result"
    }
   ],
   "source": [
    "bc_dataset_df = pd.DataFrame(bc_dataset.data, columns = bc_dataset.feature_names)\n",
    "bc_dataset_df['cancer'] = bc_dataset.target\n",
    "\n",
    "# Rename columns with underscores\n",
    "for col in bc_dataset_df.columns:\n",
    "    bc_dataset_df.rename(columns = {col: col.replace(' ', '_')}, inplace = True)\n",
    "    \n",
    "bc_dataset_df.head()"
   ]
  },
  {
   "cell_type": "code",
   "execution_count": 5,
   "metadata": {},
   "outputs": [
    {
     "name": "stdout",
     "output_type": "stream",
     "text": [
      "<class 'pandas.core.frame.DataFrame'>\n",
      "RangeIndex: 569 entries, 0 to 568\n",
      "Data columns (total 31 columns):\n",
      " #   Column                   Non-Null Count  Dtype  \n",
      "---  ------                   --------------  -----  \n",
      " 0   mean_radius              569 non-null    float64\n",
      " 1   mean_texture             569 non-null    float64\n",
      " 2   mean_perimeter           569 non-null    float64\n",
      " 3   mean_area                569 non-null    float64\n",
      " 4   mean_smoothness          569 non-null    float64\n",
      " 5   mean_compactness         569 non-null    float64\n",
      " 6   mean_concavity           569 non-null    float64\n",
      " 7   mean_concave_points      569 non-null    float64\n",
      " 8   mean_symmetry            569 non-null    float64\n",
      " 9   mean_fractal_dimension   569 non-null    float64\n",
      " 10  radius_error             569 non-null    float64\n",
      " 11  texture_error            569 non-null    float64\n",
      " 12  perimeter_error          569 non-null    float64\n",
      " 13  area_error               569 non-null    float64\n",
      " 14  smoothness_error         569 non-null    float64\n",
      " 15  compactness_error        569 non-null    float64\n",
      " 16  concavity_error          569 non-null    float64\n",
      " 17  concave_points_error     569 non-null    float64\n",
      " 18  symmetry_error           569 non-null    float64\n",
      " 19  fractal_dimension_error  569 non-null    float64\n",
      " 20  worst_radius             569 non-null    float64\n",
      " 21  worst_texture            569 non-null    float64\n",
      " 22  worst_perimeter          569 non-null    float64\n",
      " 23  worst_area               569 non-null    float64\n",
      " 24  worst_smoothness         569 non-null    float64\n",
      " 25  worst_compactness        569 non-null    float64\n",
      " 26  worst_concavity          569 non-null    float64\n",
      " 27  worst_concave_points     569 non-null    float64\n",
      " 28  worst_symmetry           569 non-null    float64\n",
      " 29  worst_fractal_dimension  569 non-null    float64\n",
      " 30  cancer                   569 non-null    int64  \n",
      "dtypes: float64(30), int64(1)\n",
      "memory usage: 137.9 KB\n"
     ]
    }
   ],
   "source": [
    "bc_dataset_df.info()"
   ]
  },
  {
   "cell_type": "markdown",
   "metadata": {},
   "source": [
    "## One Feature Logistic Regression\n",
    "Fit logistic regression model with just one feature - I will add more for comparison later"
   ]
  },
  {
   "cell_type": "code",
   "execution_count": 6,
   "metadata": {},
   "outputs": [],
   "source": [
    "# Train-test split - start with a simple example where X only has one feature\n",
    "X_one = bc_dataset_df[['mean_radius']]\n",
    "y = bc_dataset_df['cancer']\n",
    "\n",
    "X_train_one, X_test_one, y_train_one, y_test_one = train_test_split(X_one, y, test_size = .2, random_state = 1)"
   ]
  },
  {
   "cell_type": "code",
   "execution_count": 7,
   "metadata": {},
   "outputs": [],
   "source": [
    "log_reg_one = LogisticRegression()\n",
    "log_reg_one = log_reg_one.fit(X_train_one, y_train_one)"
   ]
  },
  {
   "cell_type": "code",
   "execution_count": 8,
   "metadata": {},
   "outputs": [
    {
     "data": {
      "text/plain": [
       "array([1, 1, 1, 0, 0, 0, 0, 0, 1, 1])"
      ]
     },
     "execution_count": 8,
     "metadata": {},
     "output_type": "execute_result"
    }
   ],
   "source": [
    "log_reg_one.predict(X_test_one)[:10] "
   ]
  },
  {
   "cell_type": "code",
   "execution_count": 9,
   "metadata": {},
   "outputs": [
    {
     "data": {
      "text/plain": [
       "array([[0.47 , 0.53 ],\n",
       "       [0.147, 0.853],\n",
       "       [0.12 , 0.88 ],\n",
       "       [0.978, 0.022],\n",
       "       [0.588, 0.412]])"
      ]
     },
     "execution_count": 9,
     "metadata": {},
     "output_type": "execute_result"
    }
   ],
   "source": [
    "np.round(log_reg_one.predict_proba(X_test_one), 3)[:5]"
   ]
  },
  {
   "cell_type": "code",
   "execution_count": 10,
   "metadata": {},
   "outputs": [
    {
     "name": "stdout",
     "output_type": "stream",
     "text": [
      "Training log_reg score:  0.8813186813186813\n",
      "Testing log_reg score:  0.868421052631579\n"
     ]
    }
   ],
   "source": [
    "print('Training log_reg score: ', log_reg_one.score(X_train_one, y_train_one))\n",
    "print('Testing log_reg score: ', log_reg_one.score(X_test_one, y_test_one))"
   ]
  },
  {
   "cell_type": "code",
   "execution_count": 11,
   "metadata": {},
   "outputs": [
    {
     "data": {
      "text/plain": [
       "LinearRegression()"
      ]
     },
     "execution_count": 11,
     "metadata": {},
     "output_type": "execute_result"
    }
   ],
   "source": [
    "# Fit and train linear regression model for comparison\n",
    "lin_reg_one = LinearRegression()\n",
    "lin_reg_one.fit(X_train_one, y_train_one)"
   ]
  },
  {
   "cell_type": "code",
   "execution_count": 12,
   "metadata": {},
   "outputs": [
    {
     "data": {
      "text/plain": [
       "[1.0, 1.0, 1.0, 0.0, 1.0, 0.0, 0.0, 0.0, 1.0, 1.0]"
      ]
     },
     "execution_count": 12,
     "metadata": {},
     "output_type": "execute_result"
    }
   ],
   "source": [
    "lin_reg_train_preds = list(lin_reg_one.predict(X_train_one))\n",
    "lin_reg_test_preds = list(lin_reg_one.predict(X_test_one))\n",
    "rounded_train_preds = []\n",
    "rounded_test_preds = []\n",
    "\n",
    "for pred in lin_reg_train_preds:\n",
    "    pred = round(pred, 0)\n",
    "    rounded_train_preds.append(pred)\n",
    "\n",
    "for pred in lin_reg_test_preds:\n",
    "    pred = round(pred, 0)\n",
    "    rounded_test_preds.append(pred)\n",
    "\n",
    "rounded_test_preds[:10]"
   ]
  },
  {
   "cell_type": "code",
   "execution_count": 13,
   "metadata": {},
   "outputs": [
    {
     "name": "stdout",
     "output_type": "stream",
     "text": [
      "Training log_reg score:  0.8813186813186813\n",
      "Testing log_reg score:  0.868421052631579 \n",
      "\n",
      "Training lin_reg score:  0.8681318681318682\n",
      "Testing lin_reg score:  0.8421052631578947\n"
     ]
    }
   ],
   "source": [
    "print('Training log_reg score: ', log_reg_one.score(X_train_one, y_train_one))\n",
    "print('Testing log_reg score: ', log_reg_one.score(X_test_one, y_test_one), '\\n')\n",
    "\n",
    "print('Training lin_reg score: ', accuracy_score(y_train_one, rounded_train_preds))\n",
    "print('Testing lin_reg score: ', accuracy_score(y_test_one, rounded_test_preds))"
   ]
  },
  {
   "cell_type": "code",
   "execution_count": 14,
   "metadata": {},
   "outputs": [
    {
     "data": {
      "image/png": "[encoded data removed]",
      "text/plain": [
       "<Figure size 720x360 with 1 Axes>"
      ]
     },
     "metadata": {
      "needs_background": "light"
     },
     "output_type": "display_data"
    }
   ],
   "source": [
    "# Visualize linear regression vs logistic regression for the same dataset\n",
    "\n",
    "plt.figure(figsize = (10, 5))\n",
    "\n",
    "sns.scatterplot(x = X_test_one['mean_radius'], y = y_test_one, s = 10) #plot original data\n",
    "\n",
    "# Log_reg outputs\n",
    "plt.plot(X_test_one.sort_values('mean_radius')['mean_radius'],\n",
    "         log_reg_one.predict_proba(X_test_one.sort_values('mean_radius'))[:,1],\n",
    "         color = 'grey', alpha = 0.8, lw = 3)\n",
    "\n",
    "# Lin_reg outputs \n",
    "plt.plot(X_test_one.sort_values('mean_radius')['mean_radius'],\n",
    "         lin_reg_one.predict(X_test_one.sort_values('mean_radius')),\n",
    "         color = 'black', alpha = 0.8, lw = 3)\n",
    "\n",
    "# Threshold\n",
    "plt.axhline(y = 0.5, color = 'r', linestyle = '-') #show where y = .5 lies on both curves\n",
    "\n",
    "plt.xlabel('mean_radius')\n",
    "plt.ylabel('cancer')\n",
    "plt.title('Predicting Cancer from Mean_Radius')\n",
    "plt.legend(labels = ['Logistic Regression', 'Linear Regression', '.5 Threshold']);"
   ]
  },
  {
   "cell_type": "code",
   "execution_count": 28,
   "metadata": {},
   "outputs": [
    {
     "data": {
      "image/png": "[encoded data removed]",
      "text/plain": [
       "<Figure size 576x576 with 2 Axes>"
      ]
     },
     "metadata": {
      "needs_background": "light"
     },
     "output_type": "display_data"
    }
   ],
   "source": [
    "fig, (ax1, ax2) = plt.subplots(2, 1, figsize = (8, 8))\n",
    "\n",
    "# Plot the output of log_reg to compare against logit output\n",
    "ax1.plot(X_test_one.sort_values('mean_radius')['mean_radius'],\n",
    "         log_reg_one.predict_proba(X_test_one.sort_values('mean_radius'))[:,1],\n",
    "         color = 'red', alpha = 0.8, lw = 3)\n",
    "\n",
    "ax1.set_title('Logit Link Function For Predicting Probability Of Cancer Using Mean_Radius')\n",
    "\n",
    "# Plot the logit function using the probabiliites from log_reg\n",
    "P = log_reg_one.predict_proba(X_test_one.sort_values('mean_radius'))[:,1] #probabiliites from log_reg\n",
    "\n",
    "ax2.plot(P, np.log(P/(1 - P)),\n",
    "        color = 'black', alpha = 0.8, lw = 3)\n",
    "ax2.set_title('Logit Function For Predicting Log Odds Of Cancer Using Probability')\n",
    "\n",
    "fig.tight_layout();"
   ]
  },
  {
   "cell_type": "markdown",
   "metadata": {},
   "source": [
    "## Multi-Feature Logistic Regression\n",
    "Fit a logistic regression model with two and three features to explore the effects of adding features on a sigmoid"
   ]
  },
  {
   "cell_type": "code",
   "execution_count": 16,
   "metadata": {},
   "outputs": [],
   "source": [
    "# Train-test split - two features\n",
    "X_two = bc_dataset_df[['mean_radius', 'mean_texture']]\n",
    "\n",
    "X_train_two, X_test_two, y_train_two, y_test_two = train_test_split(X_two, y, test_size = .2, random_state = 1)"
   ]
  },
  {
   "cell_type": "code",
   "execution_count": 17,
   "metadata": {},
   "outputs": [
    {
     "data": {
      "text/plain": [
       "LogisticRegression()"
      ]
     },
     "execution_count": 17,
     "metadata": {},
     "output_type": "execute_result"
    }
   ],
   "source": [
    "log_reg_two = LogisticRegression()\n",
    "log_reg_two.fit(X_train_two, y_train_two)"
   ]
  },
  {
   "cell_type": "code",
   "execution_count": 18,
   "metadata": {},
   "outputs": [
    {
     "name": "stdout",
     "output_type": "stream",
     "text": [
      "Training log_reg score:  0.8989010989010989\n",
      "Testing log_reg score:  0.8596491228070176\n"
     ]
    }
   ],
   "source": [
    "print('Training log_reg score: ', log_reg_two.score(X_train_two, y_train_two))\n",
    "print('Testing log_reg score: ', log_reg_two.score(X_test_two, y_test_two))"
   ]
  },
  {
   "cell_type": "code",
   "execution_count": 19,
   "metadata": {},
   "outputs": [],
   "source": [
    "# Train-test split - three features\n",
    "X_three = bc_dataset_df[['mean_radius', 'mean_texture', 'mean_perimeter']]\n",
    "\n",
    "X_train_three, X_test_three, y_train_three, y_test_three = train_test_split(X_three, y, test_size = .2, random_state = 1)"
   ]
  },
  {
   "cell_type": "code",
   "execution_count": 20,
   "metadata": {},
   "outputs": [
    {
     "data": {
      "text/plain": [
       "LogisticRegression()"
      ]
     },
     "execution_count": 20,
     "metadata": {},
     "output_type": "execute_result"
    }
   ],
   "source": [
    "log_reg_three = LogisticRegression()\n",
    "log_reg_three.fit(X_train_three, y_train_three)"
   ]
  },
  {
   "cell_type": "code",
   "execution_count": 21,
   "metadata": {},
   "outputs": [
    {
     "name": "stdout",
     "output_type": "stream",
     "text": [
      "Training log_reg score:  0.9208791208791208\n",
      "Testing log_reg score:  0.868421052631579\n"
     ]
    }
   ],
   "source": [
    "print('Training log_reg score: ', log_reg_three.score(X_train_three, y_train_three))\n",
    "print('Testing log_reg score: ', log_reg_three.score(X_test_three, y_test_three))"
   ]
  },
  {
   "cell_type": "code",
   "execution_count": 22,
   "metadata": {},
   "outputs": [
    {
     "data": {
      "text/plain": [
       "19.289648506151142"
      ]
     },
     "execution_count": 22,
     "metadata": {},
     "output_type": "execute_result"
    }
   ],
   "source": [
    "X_three[['mean_texture']].mean()[0]"
   ]
  },
  {
   "cell_type": "code",
   "execution_count": 23,
   "metadata": {},
   "outputs": [
    {
     "data": {
      "text/html": [
       "<div>\n",
       "<style scoped>\n",
       "    .dataframe tbody tr th:only-of-type {\n",
       "        vertical-align: middle;\n",
       "    }\n",
       "\n",
       "    .dataframe tbody tr th {\n",
       "        vertical-align: top;\n",
       "    }\n",
       "\n",
       "    .dataframe thead th {\n",
       "        text-align: right;\n",
       "    }\n",
       "</style>\n",
       "<table border=\"1\" class=\"dataframe\">\n",
       "  <thead>\n",
       "    <tr style=\"text-align: right;\">\n",
       "      <th></th>\n",
       "      <th>mean_radius</th>\n",
       "      <th>mean_texture</th>\n",
       "      <th>mean_perimeter</th>\n",
       "    </tr>\n",
       "  </thead>\n",
       "  <tbody>\n",
       "    <tr>\n",
       "      <th>0</th>\n",
       "      <td>17.99</td>\n",
       "      <td>19.289649</td>\n",
       "      <td>91.969033</td>\n",
       "    </tr>\n",
       "    <tr>\n",
       "      <th>1</th>\n",
       "      <td>20.57</td>\n",
       "      <td>19.289649</td>\n",
       "      <td>91.969033</td>\n",
       "    </tr>\n",
       "    <tr>\n",
       "      <th>2</th>\n",
       "      <td>19.69</td>\n",
       "      <td>19.289649</td>\n",
       "      <td>91.969033</td>\n",
       "    </tr>\n",
       "    <tr>\n",
       "      <th>3</th>\n",
       "      <td>11.42</td>\n",
       "      <td>19.289649</td>\n",
       "      <td>91.969033</td>\n",
       "    </tr>\n",
       "    <tr>\n",
       "      <th>4</th>\n",
       "      <td>20.29</td>\n",
       "      <td>19.289649</td>\n",
       "      <td>91.969033</td>\n",
       "    </tr>\n",
       "  </tbody>\n",
       "</table>\n",
       "</div>"
      ],
      "text/plain": [
       "   mean_radius  mean_texture  mean_perimeter\n",
       "0        17.99     19.289649       91.969033\n",
       "1        20.57     19.289649       91.969033\n",
       "2        19.69     19.289649       91.969033\n",
       "3        11.42     19.289649       91.969033\n",
       "4        20.29     19.289649       91.969033"
      ]
     },
     "execution_count": 23,
     "metadata": {},
     "output_type": "execute_result"
    }
   ],
   "source": [
    "# Train-test split - three features with mean_texture and mean_perimeter just taking the mean to simulate \"all else nbeing held equal\"\n",
    "X_three_mean = bc_dataset_df[['mean_radius']].copy()\n",
    "\n",
    "X_three_mean['mean_texture'] = X_three[['mean_texture']].mean()[0]\n",
    "X_three_mean['mean_perimeter'] = X_three[['mean_perimeter']].mean()[0]\n",
    "X_three_mean.head()"
   ]
  },
  {
   "cell_type": "code",
   "execution_count": 24,
   "metadata": {},
   "outputs": [],
   "source": [
    "X_train_three_mean, X_test_three_mean, y_train_three_mean, y_test_three_mean = train_test_split(X_three_mean, y, test_size = .2, random_state = 1)"
   ]
  },
  {
   "cell_type": "code",
   "execution_count": 25,
   "metadata": {},
   "outputs": [
    {
     "data": {
      "text/plain": [
       "LogisticRegression()"
      ]
     },
     "execution_count": 25,
     "metadata": {},
     "output_type": "execute_result"
    }
   ],
   "source": [
    "log_reg_three_mean = LogisticRegression()\n",
    "log_reg_three_mean.fit(X_train_three_mean, y_train_three_mean)"
   ]
  },
  {
   "cell_type": "code",
   "execution_count": 26,
   "metadata": {},
   "outputs": [
    {
     "data": {
      "image/png": "[encoded data removed]",
      "text/plain": [
       "<Figure size 648x648 with 4 Axes>"
      ]
     },
     "metadata": {
      "needs_background": "light"
     },
     "output_type": "display_data"
    }
   ],
   "source": [
    "fig, (ax1, ax2, ax3, ax4) = plt.subplots(4, 1, figsize = (9, 9))\n",
    "\n",
    "# Plot the output of log_reg_one, log_reg_two, and log_reg_three to see how adding features shifts the sigmoid\n",
    "ax1.plot(X_test_one.sort_values('mean_radius')['mean_radius'],\n",
    "         log_reg_one.predict_proba(X_test_one.sort_values('mean_radius'))[:,1],\n",
    "         color = 'red', alpha = 0.8, lw = 3)\n",
    "ax1.set_title('Predicting Cancer with One Feature - Mean_Radius')\n",
    "ax1.set_xlabel('Mean_Radius')\n",
    "ax1.set_ylabel('Probability of Tumor')\n",
    "\n",
    "ax2.plot(X_test_two.sort_values('mean_radius')['mean_radius'],\n",
    "         log_reg_two.predict_proba(X_test_two.sort_values('mean_radius'))[:,1],\n",
    "         color = 'blue', alpha = 0.8, lw = 3)\n",
    "ax2.set_title('Predicting Cancer with Two Features - Mean_Radius and Mean_Texture')\n",
    "ax2.set_xlabel('Mean_Radius')\n",
    "ax2.set_ylabel('Probability of Tumor')\n",
    "\n",
    "ax3.plot(X_test_three.sort_values('mean_radius')['mean_radius'],\n",
    "         log_reg_three.predict_proba(X_test_three.sort_values('mean_radius'))[:,1],\n",
    "         color = 'black', alpha = 0.8, lw = 3)\n",
    "ax3.set_title('Predicting Cancer with Three Features - Mean_Radius, Mean_Texture and Mean_Perimeter')\n",
    "ax3.set_xlabel('Mean_Radius')\n",
    "ax3.set_ylabel('Probability of Tumor')\n",
    "\n",
    "ax4.plot(X_test_three_mean.sort_values('mean_radius')['mean_radius'],\n",
    "         log_reg_three_mean.predict_proba(X_test_three_mean.sort_values('mean_radius'))[:,1],\n",
    "         color = 'brown', alpha = 0.8, lw = 3)\n",
    "ax4.set_title('Predicting Cancer with Three Features (Two Features Held Constant) - Mean_Radius, Mean_Texture and Mean_Perimeter')\n",
    "ax4.set_xlabel('Mean_Radius')\n",
    "ax4.set_ylabel('Probability of Tumor')\n",
    "\n",
    "fig.tight_layout();"
   ]
  },
  {
   "cell_type": "code",
   "execution_count": 27,
   "metadata": {},
   "outputs": [
    {
     "name": "stdout",
     "output_type": "stream",
     "text": [
      "The coefficients for mean_radius, mean_texture, and mean_perimeter respectively are: \n",
      " [ 2.67521815 -0.23217125 -0.57046239]\n"
     ]
    }
   ],
   "source": [
    "print('The coefficients for mean_radius, mean_texture, and mean_perimeter respectively are: \\n', log_reg_three.coef_[0])"
   ]
  }
 ],
 "metadata": {
  "kernelspec": {
   "display_name": "Python 3 (ipykernel)",
   "language": "python",
   "name": "python3"
  },
  "language_info": {
   "codemirror_mode": {
    "name": "ipython",
    "version": 3
   },
   "file_extension": ".py",
   "mimetype": "text/x-python",
   "name": "python",
   "nbconvert_exporter": "python",
   "pygments_lexer": "ipython3",
   "version": "3.9.12"
  }
 },
 "nbformat": 4,
 "nbformat_minor": 4
}

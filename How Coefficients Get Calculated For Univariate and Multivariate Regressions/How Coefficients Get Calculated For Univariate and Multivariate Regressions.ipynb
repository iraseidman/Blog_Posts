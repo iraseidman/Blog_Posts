{
 "cells": [
  {
   "cell_type": "code",
   "execution_count": 1,
   "id": "33e4edc2-f090-44c0-a7ba-8248a05e0ee5",
   "metadata": {},
   "outputs": [],
   "source": [
    "# Imports\n",
    "import pandas as pd\n",
    "import numpy as np\n",
    "import matplotlib.pyplot as plt\n",
    "import seaborn as sns\n",
    "\n",
    "import sklearn.datasets\n",
    "import statsmodels.api as sm\n",
    "from sklearn.datasets import fetch_openml\n",
    "\n",
    "import re\n",
    "\n",
    "from sklearn.linear_model import LinearRegression"
   ]
  },
  {
   "cell_type": "markdown",
   "id": "4e37dc50-30e9-4ba5-a4cb-c5fc86e35914",
   "metadata": {},
   "source": [
    "# Load in Data"
   ]
  },
  {
   "cell_type": "code",
   "execution_count": 2,
   "id": "9ccd96c1-659b-434f-9862-7089eb473e73",
   "metadata": {},
   "outputs": [],
   "source": [
    "ames_housing = fetch_openml(name=\"house_prices\", as_frame=True)"
   ]
  },
  {
   "cell_type": "code",
   "execution_count": 3,
   "id": "66f9ba91-de40-4dee-821f-f4ae3d958b3a",
   "metadata": {},
   "outputs": [
    {
     "data": {
      "text/html": [
       "<div>\n",
       "<style scoped>\n",
       "    .dataframe tbody tr th:only-of-type {\n",
       "        vertical-align: middle;\n",
       "    }\n",
       "\n",
       "    .dataframe tbody tr th {\n",
       "        vertical-align: top;\n",
       "    }\n",
       "\n",
       "    .dataframe thead th {\n",
       "        text-align: right;\n",
       "    }\n",
       "</style>\n",
       "<table border=\"1\" class=\"dataframe\">\n",
       "  <thead>\n",
       "    <tr style=\"text-align: right;\">\n",
       "      <th></th>\n",
       "      <th>Id</th>\n",
       "      <th>MSSubClass</th>\n",
       "      <th>MSZoning</th>\n",
       "      <th>LotFrontage</th>\n",
       "      <th>LotArea</th>\n",
       "      <th>Street</th>\n",
       "      <th>Alley</th>\n",
       "      <th>LotShape</th>\n",
       "      <th>LandContour</th>\n",
       "      <th>Utilities</th>\n",
       "      <th>...</th>\n",
       "      <th>PoolArea</th>\n",
       "      <th>PoolQC</th>\n",
       "      <th>Fence</th>\n",
       "      <th>MiscFeature</th>\n",
       "      <th>MiscVal</th>\n",
       "      <th>MoSold</th>\n",
       "      <th>YrSold</th>\n",
       "      <th>SaleType</th>\n",
       "      <th>SaleCondition</th>\n",
       "      <th>ave_sale_price</th>\n",
       "    </tr>\n",
       "  </thead>\n",
       "  <tbody>\n",
       "    <tr>\n",
       "      <th>0</th>\n",
       "      <td>1.0</td>\n",
       "      <td>60.0</td>\n",
       "      <td>RL</td>\n",
       "      <td>65.0</td>\n",
       "      <td>8450.0</td>\n",
       "      <td>Pave</td>\n",
       "      <td>None</td>\n",
       "      <td>Reg</td>\n",
       "      <td>Lvl</td>\n",
       "      <td>AllPub</td>\n",
       "      <td>...</td>\n",
       "      <td>0.0</td>\n",
       "      <td>None</td>\n",
       "      <td>None</td>\n",
       "      <td>None</td>\n",
       "      <td>0.0</td>\n",
       "      <td>2.0</td>\n",
       "      <td>2008.0</td>\n",
       "      <td>WD</td>\n",
       "      <td>Normal</td>\n",
       "      <td>208500.0</td>\n",
       "    </tr>\n",
       "    <tr>\n",
       "      <th>1</th>\n",
       "      <td>2.0</td>\n",
       "      <td>20.0</td>\n",
       "      <td>RL</td>\n",
       "      <td>80.0</td>\n",
       "      <td>9600.0</td>\n",
       "      <td>Pave</td>\n",
       "      <td>None</td>\n",
       "      <td>Reg</td>\n",
       "      <td>Lvl</td>\n",
       "      <td>AllPub</td>\n",
       "      <td>...</td>\n",
       "      <td>0.0</td>\n",
       "      <td>None</td>\n",
       "      <td>None</td>\n",
       "      <td>None</td>\n",
       "      <td>0.0</td>\n",
       "      <td>5.0</td>\n",
       "      <td>2007.0</td>\n",
       "      <td>WD</td>\n",
       "      <td>Normal</td>\n",
       "      <td>181500.0</td>\n",
       "    </tr>\n",
       "    <tr>\n",
       "      <th>2</th>\n",
       "      <td>3.0</td>\n",
       "      <td>60.0</td>\n",
       "      <td>RL</td>\n",
       "      <td>68.0</td>\n",
       "      <td>11250.0</td>\n",
       "      <td>Pave</td>\n",
       "      <td>None</td>\n",
       "      <td>IR1</td>\n",
       "      <td>Lvl</td>\n",
       "      <td>AllPub</td>\n",
       "      <td>...</td>\n",
       "      <td>0.0</td>\n",
       "      <td>None</td>\n",
       "      <td>None</td>\n",
       "      <td>None</td>\n",
       "      <td>0.0</td>\n",
       "      <td>9.0</td>\n",
       "      <td>2008.0</td>\n",
       "      <td>WD</td>\n",
       "      <td>Normal</td>\n",
       "      <td>223500.0</td>\n",
       "    </tr>\n",
       "    <tr>\n",
       "      <th>3</th>\n",
       "      <td>4.0</td>\n",
       "      <td>70.0</td>\n",
       "      <td>RL</td>\n",
       "      <td>60.0</td>\n",
       "      <td>9550.0</td>\n",
       "      <td>Pave</td>\n",
       "      <td>None</td>\n",
       "      <td>IR1</td>\n",
       "      <td>Lvl</td>\n",
       "      <td>AllPub</td>\n",
       "      <td>...</td>\n",
       "      <td>0.0</td>\n",
       "      <td>None</td>\n",
       "      <td>None</td>\n",
       "      <td>None</td>\n",
       "      <td>0.0</td>\n",
       "      <td>2.0</td>\n",
       "      <td>2006.0</td>\n",
       "      <td>WD</td>\n",
       "      <td>Abnorml</td>\n",
       "      <td>140000.0</td>\n",
       "    </tr>\n",
       "    <tr>\n",
       "      <th>4</th>\n",
       "      <td>5.0</td>\n",
       "      <td>60.0</td>\n",
       "      <td>RL</td>\n",
       "      <td>84.0</td>\n",
       "      <td>14260.0</td>\n",
       "      <td>Pave</td>\n",
       "      <td>None</td>\n",
       "      <td>IR1</td>\n",
       "      <td>Lvl</td>\n",
       "      <td>AllPub</td>\n",
       "      <td>...</td>\n",
       "      <td>0.0</td>\n",
       "      <td>None</td>\n",
       "      <td>None</td>\n",
       "      <td>None</td>\n",
       "      <td>0.0</td>\n",
       "      <td>12.0</td>\n",
       "      <td>2008.0</td>\n",
       "      <td>WD</td>\n",
       "      <td>Normal</td>\n",
       "      <td>250000.0</td>\n",
       "    </tr>\n",
       "  </tbody>\n",
       "</table>\n",
       "<p>5 rows × 81 columns</p>\n",
       "</div>"
      ],
      "text/plain": [
       "    Id  MSSubClass MSZoning  LotFrontage  LotArea Street Alley LotShape  \\\n",
       "0  1.0        60.0       RL         65.0   8450.0   Pave  None      Reg   \n",
       "1  2.0        20.0       RL         80.0   9600.0   Pave  None      Reg   \n",
       "2  3.0        60.0       RL         68.0  11250.0   Pave  None      IR1   \n",
       "3  4.0        70.0       RL         60.0   9550.0   Pave  None      IR1   \n",
       "4  5.0        60.0       RL         84.0  14260.0   Pave  None      IR1   \n",
       "\n",
       "  LandContour Utilities  ... PoolArea PoolQC Fence MiscFeature MiscVal MoSold  \\\n",
       "0         Lvl    AllPub  ...      0.0   None  None        None     0.0    2.0   \n",
       "1         Lvl    AllPub  ...      0.0   None  None        None     0.0    5.0   \n",
       "2         Lvl    AllPub  ...      0.0   None  None        None     0.0    9.0   \n",
       "3         Lvl    AllPub  ...      0.0   None  None        None     0.0    2.0   \n",
       "4         Lvl    AllPub  ...      0.0   None  None        None     0.0   12.0   \n",
       "\n",
       "   YrSold  SaleType  SaleCondition  ave_sale_price  \n",
       "0  2008.0        WD         Normal        208500.0  \n",
       "1  2007.0        WD         Normal        181500.0  \n",
       "2  2008.0        WD         Normal        223500.0  \n",
       "3  2006.0        WD        Abnorml        140000.0  \n",
       "4  2008.0        WD         Normal        250000.0  \n",
       "\n",
       "[5 rows x 81 columns]"
      ]
     },
     "execution_count": 3,
     "metadata": {},
     "output_type": "execute_result"
    }
   ],
   "source": [
    "ames_housing_df = pd.DataFrame(ames_housing.data, columns = ames_housing.feature_names)\n",
    "ames_housing_df['ave_sale_price'] = ames_housing.target\n",
    "\n",
    "# Rename columns with underscores\n",
    "# for col in ames_housing_df.columns:\n",
    "#     ames_housing_df.rename(columns = {col: col.replace(' ', '_')}, inplace = True)\n",
    "    \n",
    "ames_housing_df.head()"
   ]
  },
  {
   "cell_type": "code",
   "execution_count": 4,
   "id": "52b2d8ce-0b0c-4689-8001-df2c56030d56",
   "metadata": {},
   "outputs": [
    {
     "data": {
      "text/html": [
       "<div>\n",
       "<style scoped>\n",
       "    .dataframe tbody tr th:only-of-type {\n",
       "        vertical-align: middle;\n",
       "    }\n",
       "\n",
       "    .dataframe tbody tr th {\n",
       "        vertical-align: top;\n",
       "    }\n",
       "\n",
       "    .dataframe thead th {\n",
       "        text-align: right;\n",
       "    }\n",
       "</style>\n",
       "<table border=\"1\" class=\"dataframe\">\n",
       "  <thead>\n",
       "    <tr style=\"text-align: right;\">\n",
       "      <th></th>\n",
       "      <th>id</th>\n",
       "      <th>ms_sub_class</th>\n",
       "      <th>ms_zoning</th>\n",
       "      <th>lot_frontage</th>\n",
       "      <th>lot_area</th>\n",
       "      <th>street</th>\n",
       "      <th>alley</th>\n",
       "      <th>lot_shape</th>\n",
       "      <th>land_contour</th>\n",
       "      <th>utilities</th>\n",
       "      <th>...</th>\n",
       "      <th>pool_area</th>\n",
       "      <th>pool_qc</th>\n",
       "      <th>fence</th>\n",
       "      <th>misc_feature</th>\n",
       "      <th>misc_val</th>\n",
       "      <th>mo_sold</th>\n",
       "      <th>yr_sold</th>\n",
       "      <th>sale_type</th>\n",
       "      <th>sale_condition</th>\n",
       "      <th>ave_sale_price</th>\n",
       "    </tr>\n",
       "  </thead>\n",
       "  <tbody>\n",
       "    <tr>\n",
       "      <th>0</th>\n",
       "      <td>1.0</td>\n",
       "      <td>60.0</td>\n",
       "      <td>RL</td>\n",
       "      <td>65.0</td>\n",
       "      <td>8450.0</td>\n",
       "      <td>Pave</td>\n",
       "      <td>None</td>\n",
       "      <td>Reg</td>\n",
       "      <td>Lvl</td>\n",
       "      <td>AllPub</td>\n",
       "      <td>...</td>\n",
       "      <td>0.0</td>\n",
       "      <td>None</td>\n",
       "      <td>None</td>\n",
       "      <td>None</td>\n",
       "      <td>0.0</td>\n",
       "      <td>2.0</td>\n",
       "      <td>2008.0</td>\n",
       "      <td>WD</td>\n",
       "      <td>Normal</td>\n",
       "      <td>208500.0</td>\n",
       "    </tr>\n",
       "    <tr>\n",
       "      <th>1</th>\n",
       "      <td>2.0</td>\n",
       "      <td>20.0</td>\n",
       "      <td>RL</td>\n",
       "      <td>80.0</td>\n",
       "      <td>9600.0</td>\n",
       "      <td>Pave</td>\n",
       "      <td>None</td>\n",
       "      <td>Reg</td>\n",
       "      <td>Lvl</td>\n",
       "      <td>AllPub</td>\n",
       "      <td>...</td>\n",
       "      <td>0.0</td>\n",
       "      <td>None</td>\n",
       "      <td>None</td>\n",
       "      <td>None</td>\n",
       "      <td>0.0</td>\n",
       "      <td>5.0</td>\n",
       "      <td>2007.0</td>\n",
       "      <td>WD</td>\n",
       "      <td>Normal</td>\n",
       "      <td>181500.0</td>\n",
       "    </tr>\n",
       "    <tr>\n",
       "      <th>2</th>\n",
       "      <td>3.0</td>\n",
       "      <td>60.0</td>\n",
       "      <td>RL</td>\n",
       "      <td>68.0</td>\n",
       "      <td>11250.0</td>\n",
       "      <td>Pave</td>\n",
       "      <td>None</td>\n",
       "      <td>IR1</td>\n",
       "      <td>Lvl</td>\n",
       "      <td>AllPub</td>\n",
       "      <td>...</td>\n",
       "      <td>0.0</td>\n",
       "      <td>None</td>\n",
       "      <td>None</td>\n",
       "      <td>None</td>\n",
       "      <td>0.0</td>\n",
       "      <td>9.0</td>\n",
       "      <td>2008.0</td>\n",
       "      <td>WD</td>\n",
       "      <td>Normal</td>\n",
       "      <td>223500.0</td>\n",
       "    </tr>\n",
       "    <tr>\n",
       "      <th>3</th>\n",
       "      <td>4.0</td>\n",
       "      <td>70.0</td>\n",
       "      <td>RL</td>\n",
       "      <td>60.0</td>\n",
       "      <td>9550.0</td>\n",
       "      <td>Pave</td>\n",
       "      <td>None</td>\n",
       "      <td>IR1</td>\n",
       "      <td>Lvl</td>\n",
       "      <td>AllPub</td>\n",
       "      <td>...</td>\n",
       "      <td>0.0</td>\n",
       "      <td>None</td>\n",
       "      <td>None</td>\n",
       "      <td>None</td>\n",
       "      <td>0.0</td>\n",
       "      <td>2.0</td>\n",
       "      <td>2006.0</td>\n",
       "      <td>WD</td>\n",
       "      <td>Abnorml</td>\n",
       "      <td>140000.0</td>\n",
       "    </tr>\n",
       "    <tr>\n",
       "      <th>4</th>\n",
       "      <td>5.0</td>\n",
       "      <td>60.0</td>\n",
       "      <td>RL</td>\n",
       "      <td>84.0</td>\n",
       "      <td>14260.0</td>\n",
       "      <td>Pave</td>\n",
       "      <td>None</td>\n",
       "      <td>IR1</td>\n",
       "      <td>Lvl</td>\n",
       "      <td>AllPub</td>\n",
       "      <td>...</td>\n",
       "      <td>0.0</td>\n",
       "      <td>None</td>\n",
       "      <td>None</td>\n",
       "      <td>None</td>\n",
       "      <td>0.0</td>\n",
       "      <td>12.0</td>\n",
       "      <td>2008.0</td>\n",
       "      <td>WD</td>\n",
       "      <td>Normal</td>\n",
       "      <td>250000.0</td>\n",
       "    </tr>\n",
       "  </tbody>\n",
       "</table>\n",
       "<p>5 rows × 81 columns</p>\n",
       "</div>"
      ],
      "text/plain": [
       "    id  ms_sub_class ms_zoning  lot_frontage  lot_area street alley lot_shape  \\\n",
       "0  1.0          60.0        RL          65.0    8450.0   Pave  None       Reg   \n",
       "1  2.0          20.0        RL          80.0    9600.0   Pave  None       Reg   \n",
       "2  3.0          60.0        RL          68.0   11250.0   Pave  None       IR1   \n",
       "3  4.0          70.0        RL          60.0    9550.0   Pave  None       IR1   \n",
       "4  5.0          60.0        RL          84.0   14260.0   Pave  None       IR1   \n",
       "\n",
       "  land_contour utilities  ... pool_area pool_qc fence misc_feature misc_val  \\\n",
       "0          Lvl    AllPub  ...       0.0    None  None         None      0.0   \n",
       "1          Lvl    AllPub  ...       0.0    None  None         None      0.0   \n",
       "2          Lvl    AllPub  ...       0.0    None  None         None      0.0   \n",
       "3          Lvl    AllPub  ...       0.0    None  None         None      0.0   \n",
       "4          Lvl    AllPub  ...       0.0    None  None         None      0.0   \n",
       "\n",
       "  mo_sold yr_sold  sale_type  sale_condition  ave_sale_price  \n",
       "0     2.0  2008.0         WD          Normal        208500.0  \n",
       "1     5.0  2007.0         WD          Normal        181500.0  \n",
       "2     9.0  2008.0         WD          Normal        223500.0  \n",
       "3     2.0  2006.0         WD         Abnorml        140000.0  \n",
       "4    12.0  2008.0         WD          Normal        250000.0  \n",
       "\n",
       "[5 rows x 81 columns]"
      ]
     },
     "execution_count": 4,
     "metadata": {},
     "output_type": "execute_result"
    }
   ],
   "source": [
    "# Make various string replacements to covert columns to snake_case\n",
    "ames_housing_df.rename(columns = lambda x: x.replace('MS', 'ms'), inplace = True)\n",
    "ames_housing_df.rename(columns = lambda x: x.replace('SF', '_sf'), inplace = True)\n",
    "ames_housing_df.rename(columns = lambda x: x.replace('QC', '_qc'), inplace = True)\n",
    "ames_housing_df.rename(columns = lambda x: x.replace('1st', '_first'), inplace = True)\n",
    "ames_housing_df.rename(columns = lambda x: x.replace('2nd', '_second'), inplace = True)\n",
    "ames_housing_df.rename(columns = lambda x: x.replace('1', '_one'), inplace = True)\n",
    "ames_housing_df.rename(columns = lambda x: x.replace('2', '_two'), inplace = True)\n",
    "ames_housing_df.rename(columns = lambda x: x.replace('3', 'three'), inplace = True)\n",
    "ames_housing_df.rename(columns = lambda x: re.sub(r'(?<!^)(?=[A-Z])', '_', x).lower(), inplace = True) #lower case\n",
    "ames_housing_df.rename(columns = lambda x: x.strip('_'), inplace = True)\n",
    "ames_housing_df.head()"
   ]
  },
  {
   "cell_type": "markdown",
   "id": "40d1f005-adf7-42be-91dd-0a09ed29c1c0",
   "metadata": {},
   "source": [
    "# Slope and Intercept Calculations for Single Linear Regression\n",
    "Example using sklearn's linear regression. Credit to Statology for the code below - https://www.statology.org/sklearn-regression-coefficients/"
   ]
  },
  {
   "cell_type": "code",
   "execution_count": 5,
   "id": "da5562ce-5a73-47b1-ace9-861eeaa7c242",
   "metadata": {},
   "outputs": [],
   "source": [
    "model_uni = LinearRegression()"
   ]
  },
  {
   "cell_type": "code",
   "execution_count": 6,
   "id": "12c9206c-5b7c-4ac0-b4e4-2eed1922b51b",
   "metadata": {},
   "outputs": [
    {
     "data": {
      "text/html": [
       "<div>\n",
       "<style scoped>\n",
       "    .dataframe tbody tr th:only-of-type {\n",
       "        vertical-align: middle;\n",
       "    }\n",
       "\n",
       "    .dataframe tbody tr th {\n",
       "        vertical-align: top;\n",
       "    }\n",
       "\n",
       "    .dataframe thead th {\n",
       "        text-align: right;\n",
       "    }\n",
       "</style>\n",
       "<table border=\"1\" class=\"dataframe\">\n",
       "  <thead>\n",
       "    <tr style=\"text-align: right;\">\n",
       "      <th></th>\n",
       "      <th>lot_frontage</th>\n",
       "      <th>ave_sale_price</th>\n",
       "    </tr>\n",
       "  </thead>\n",
       "  <tbody>\n",
       "    <tr>\n",
       "      <th>0</th>\n",
       "      <td>65.0</td>\n",
       "      <td>208500.0</td>\n",
       "    </tr>\n",
       "    <tr>\n",
       "      <th>1</th>\n",
       "      <td>80.0</td>\n",
       "      <td>181500.0</td>\n",
       "    </tr>\n",
       "    <tr>\n",
       "      <th>2</th>\n",
       "      <td>68.0</td>\n",
       "      <td>223500.0</td>\n",
       "    </tr>\n",
       "    <tr>\n",
       "      <th>3</th>\n",
       "      <td>60.0</td>\n",
       "      <td>140000.0</td>\n",
       "    </tr>\n",
       "    <tr>\n",
       "      <th>4</th>\n",
       "      <td>84.0</td>\n",
       "      <td>250000.0</td>\n",
       "    </tr>\n",
       "  </tbody>\n",
       "</table>\n",
       "</div>"
      ],
      "text/plain": [
       "   lot_frontage  ave_sale_price\n",
       "0          65.0        208500.0\n",
       "1          80.0        181500.0\n",
       "2          68.0        223500.0\n",
       "3          60.0        140000.0\n",
       "4          84.0        250000.0"
      ]
     },
     "execution_count": 6,
     "metadata": {},
     "output_type": "execute_result"
    }
   ],
   "source": [
    "uni = ames_housing_df[['lot_frontage', 'ave_sale_price']]\n",
    "uni= uni.dropna()\n",
    "uni.head()"
   ]
  },
  {
   "cell_type": "code",
   "execution_count": 7,
   "id": "b23dbc80-c8fd-45e7-a5b8-9306c271d53a",
   "metadata": {},
   "outputs": [
    {
     "data": {
      "text/plain": [
       "LinearRegression()"
      ]
     },
     "execution_count": 7,
     "metadata": {},
     "output_type": "execute_result"
    }
   ],
   "source": [
    "X_uni, y_uni = uni[['lot_frontage']], uni[['ave_sale_price']]\n",
    "model_uni.fit(X_uni, y_uni)"
   ]
  },
  {
   "cell_type": "code",
   "execution_count": 8,
   "id": "1c6bb696-1cca-478b-8137-7363be9b46c1",
   "metadata": {},
   "outputs": [
    {
     "data": {
      "text/html": [
       "<div>\n",
       "<style scoped>\n",
       "    .dataframe tbody tr th:only-of-type {\n",
       "        vertical-align: middle;\n",
       "    }\n",
       "\n",
       "    .dataframe tbody tr th {\n",
       "        vertical-align: top;\n",
       "    }\n",
       "\n",
       "    .dataframe thead th {\n",
       "        text-align: right;\n",
       "    }\n",
       "</style>\n",
       "<table border=\"1\" class=\"dataframe\">\n",
       "  <thead>\n",
       "    <tr style=\"text-align: right;\">\n",
       "      <th></th>\n",
       "      <th>Column</th>\n",
       "      <th>Slope</th>\n",
       "    </tr>\n",
       "  </thead>\n",
       "  <tbody>\n",
       "    <tr>\n",
       "      <th>0</th>\n",
       "      <td>lot_frontage</td>\n",
       "      <td>1208.015549</td>\n",
       "    </tr>\n",
       "  </tbody>\n",
       "</table>\n",
       "</div>"
      ],
      "text/plain": [
       "         Column        Slope\n",
       "0  lot_frontage  1208.015549"
      ]
     },
     "execution_count": 8,
     "metadata": {},
     "output_type": "execute_result"
    }
   ],
   "source": [
    "pd.DataFrame(zip(X_uni.columns, model_uni.coef_[0]), columns = ['Column', 'Slope'])"
   ]
  },
  {
   "cell_type": "code",
   "execution_count": 9,
   "id": "be8e71fe-7c6b-4c91-b0be-e5cec6b8150c",
   "metadata": {},
   "outputs": [
    {
     "data": {
      "text/html": [
       "<div>\n",
       "<style scoped>\n",
       "    .dataframe tbody tr th:only-of-type {\n",
       "        vertical-align: middle;\n",
       "    }\n",
       "\n",
       "    .dataframe tbody tr th {\n",
       "        vertical-align: top;\n",
       "    }\n",
       "\n",
       "    .dataframe thead th {\n",
       "        text-align: right;\n",
       "    }\n",
       "</style>\n",
       "<table border=\"1\" class=\"dataframe\">\n",
       "  <thead>\n",
       "    <tr style=\"text-align: right;\">\n",
       "      <th></th>\n",
       "      <th>Column</th>\n",
       "      <th>Intercept</th>\n",
       "    </tr>\n",
       "  </thead>\n",
       "  <tbody>\n",
       "    <tr>\n",
       "      <th>0</th>\n",
       "      <td>lot_frontage</td>\n",
       "      <td>96149.041503</td>\n",
       "    </tr>\n",
       "  </tbody>\n",
       "</table>\n",
       "</div>"
      ],
      "text/plain": [
       "         Column     Intercept\n",
       "0  lot_frontage  96149.041503"
      ]
     },
     "execution_count": 9,
     "metadata": {},
     "output_type": "execute_result"
    }
   ],
   "source": [
    "pd.DataFrame(zip(X_uni.columns, model_uni.intercept_), columns = ['Column', 'Intercept'])"
   ]
  },
  {
   "cell_type": "code",
   "execution_count": 10,
   "id": "4953edb0-41c6-49e3-9bf2-055a70827c42",
   "metadata": {},
   "outputs": [
    {
     "name": "stdout",
     "output_type": "stream",
     "text": [
      "                            OLS Regression Results                            \n",
      "==============================================================================\n",
      "Dep. Variable:         ave_sale_price   R-squared:                       0.124\n",
      "Model:                            OLS   Adj. R-squared:                  0.123\n",
      "Method:                 Least Squares   F-statistic:                     169.4\n",
      "Date:                Sun, 28 May 2023   Prob (F-statistic):           2.60e-36\n",
      "Time:                        11:36:37   Log-Likelihood:                -15233.\n",
      "No. Observations:                1201   AIC:                         3.047e+04\n",
      "Df Residuals:                    1199   BIC:                         3.048e+04\n",
      "Df Model:                           1                                         \n",
      "Covariance Type:            nonrobust                                         \n",
      "================================================================================\n",
      "                   coef    std err          t      P>|t|      [0.025      0.975]\n",
      "--------------------------------------------------------------------------------\n",
      "const         9.615e+04   6881.966     13.971      0.000    8.26e+04     1.1e+05\n",
      "lot_frontage  1208.0155     92.828     13.013      0.000    1025.892    1390.139\n",
      "==============================================================================\n",
      "Omnibus:                      437.519   Durbin-Watson:                   2.015\n",
      "Prob(Omnibus):                  0.000   Jarque-Bera (JB):             2133.870\n",
      "Skew:                           1.638   Prob(JB):                         0.00\n",
      "Kurtosis:                       8.649   Cond. No.                         226.\n",
      "==============================================================================\n",
      "\n",
      "Notes:\n",
      "[1] Standard Errors assume that the covariance matrix of the errors is correctly specified.\n"
     ]
    }
   ],
   "source": [
    "import statsmodels.api as sm\n",
    "\n",
    "uni_X = sm.add_constant(uni.lot_frontage)\n",
    "model = sm.OLS(uni.ave_sale_price, uni_X)\n",
    "results = model.fit()\n",
    "print(results.summary())"
   ]
  },
  {
   "cell_type": "markdown",
   "id": "cf73e0ba-6b23-49fa-a0af-d7deb8591db4",
   "metadata": {},
   "source": [
    "# Slope and Intercept Calculations for Multiple Linear Regression"
   ]
  },
  {
   "cell_type": "code",
   "execution_count": 11,
   "id": "381bd0a3-49be-4621-ba28-781f81d800b0",
   "metadata": {},
   "outputs": [],
   "source": [
    "model_multi = LinearRegression()"
   ]
  },
  {
   "cell_type": "code",
   "execution_count": 12,
   "id": "15fdf5fd-e45d-4dcc-bd4e-094e9bf39103",
   "metadata": {},
   "outputs": [
    {
     "data": {
      "text/html": [
       "<div>\n",
       "<style scoped>\n",
       "    .dataframe tbody tr th:only-of-type {\n",
       "        vertical-align: middle;\n",
       "    }\n",
       "\n",
       "    .dataframe tbody tr th {\n",
       "        vertical-align: top;\n",
       "    }\n",
       "\n",
       "    .dataframe thead th {\n",
       "        text-align: right;\n",
       "    }\n",
       "</style>\n",
       "<table border=\"1\" class=\"dataframe\">\n",
       "  <thead>\n",
       "    <tr style=\"text-align: right;\">\n",
       "      <th></th>\n",
       "      <th>lot_frontage</th>\n",
       "      <th>lot_area</th>\n",
       "      <th>ave_sale_price</th>\n",
       "    </tr>\n",
       "  </thead>\n",
       "  <tbody>\n",
       "    <tr>\n",
       "      <th>0</th>\n",
       "      <td>65.0</td>\n",
       "      <td>8450.0</td>\n",
       "      <td>208500.0</td>\n",
       "    </tr>\n",
       "    <tr>\n",
       "      <th>1</th>\n",
       "      <td>80.0</td>\n",
       "      <td>9600.0</td>\n",
       "      <td>181500.0</td>\n",
       "    </tr>\n",
       "    <tr>\n",
       "      <th>2</th>\n",
       "      <td>68.0</td>\n",
       "      <td>11250.0</td>\n",
       "      <td>223500.0</td>\n",
       "    </tr>\n",
       "    <tr>\n",
       "      <th>3</th>\n",
       "      <td>60.0</td>\n",
       "      <td>9550.0</td>\n",
       "      <td>140000.0</td>\n",
       "    </tr>\n",
       "    <tr>\n",
       "      <th>4</th>\n",
       "      <td>84.0</td>\n",
       "      <td>14260.0</td>\n",
       "      <td>250000.0</td>\n",
       "    </tr>\n",
       "  </tbody>\n",
       "</table>\n",
       "</div>"
      ],
      "text/plain": [
       "   lot_frontage  lot_area  ave_sale_price\n",
       "0          65.0    8450.0        208500.0\n",
       "1          80.0    9600.0        181500.0\n",
       "2          68.0   11250.0        223500.0\n",
       "3          60.0    9550.0        140000.0\n",
       "4          84.0   14260.0        250000.0"
      ]
     },
     "execution_count": 12,
     "metadata": {},
     "output_type": "execute_result"
    }
   ],
   "source": [
    "multi = ames_housing_df[['lot_frontage', 'lot_area', 'ave_sale_price']]\n",
    "multi= multi.dropna()\n",
    "multi.head()"
   ]
  },
  {
   "cell_type": "code",
   "execution_count": 13,
   "id": "866ccce0-e73d-49f0-b062-6edbf67e0c55",
   "metadata": {},
   "outputs": [
    {
     "data": {
      "text/plain": [
       "LinearRegression()"
      ]
     },
     "execution_count": 13,
     "metadata": {},
     "output_type": "execute_result"
    }
   ],
   "source": [
    "X_multi, y_multi = multi[['lot_frontage', 'lot_area']], multi[['ave_sale_price']]\n",
    "model_multi.fit(X_multi, y_multi)"
   ]
  },
  {
   "cell_type": "code",
   "execution_count": 14,
   "id": "b1f2c357-41b9-4380-b5fb-f36a403f6ae9",
   "metadata": {},
   "outputs": [
    {
     "data": {
      "text/html": [
       "<div>\n",
       "<style scoped>\n",
       "    .dataframe tbody tr th:only-of-type {\n",
       "        vertical-align: middle;\n",
       "    }\n",
       "\n",
       "    .dataframe tbody tr th {\n",
       "        vertical-align: top;\n",
       "    }\n",
       "\n",
       "    .dataframe thead th {\n",
       "        text-align: right;\n",
       "    }\n",
       "</style>\n",
       "<table border=\"1\" class=\"dataframe\">\n",
       "  <thead>\n",
       "    <tr style=\"text-align: right;\">\n",
       "      <th></th>\n",
       "      <th>Column</th>\n",
       "      <th>Slope</th>\n",
       "    </tr>\n",
       "  </thead>\n",
       "  <tbody>\n",
       "    <tr>\n",
       "      <th>0</th>\n",
       "      <td>lot_frontage</td>\n",
       "      <td>919.273012</td>\n",
       "    </tr>\n",
       "    <tr>\n",
       "      <th>1</th>\n",
       "      <td>lot_area</td>\n",
       "      <td>2.076702</td>\n",
       "    </tr>\n",
       "  </tbody>\n",
       "</table>\n",
       "</div>"
      ],
      "text/plain": [
       "         Column       Slope\n",
       "0  lot_frontage  919.273012\n",
       "1      lot_area    2.076702"
      ]
     },
     "execution_count": 14,
     "metadata": {},
     "output_type": "execute_result"
    }
   ],
   "source": [
    "pd.DataFrame(zip(X_multi.columns, model_multi.coef_[0]), columns = ['Column', 'Slope'])"
   ]
  },
  {
   "cell_type": "code",
   "execution_count": 15,
   "id": "24ec47f8-c150-41ee-9efd-165abad1cb6d",
   "metadata": {},
   "outputs": [
    {
     "data": {
      "text/html": [
       "<div>\n",
       "<style scoped>\n",
       "    .dataframe tbody tr th:only-of-type {\n",
       "        vertical-align: middle;\n",
       "    }\n",
       "\n",
       "    .dataframe tbody tr th {\n",
       "        vertical-align: top;\n",
       "    }\n",
       "\n",
       "    .dataframe thead th {\n",
       "        text-align: right;\n",
       "    }\n",
       "</style>\n",
       "<table border=\"1\" class=\"dataframe\">\n",
       "  <thead>\n",
       "    <tr style=\"text-align: right;\">\n",
       "      <th></th>\n",
       "      <th>Column</th>\n",
       "      <th>Intercept</th>\n",
       "    </tr>\n",
       "  </thead>\n",
       "  <tbody>\n",
       "    <tr>\n",
       "      <th>0</th>\n",
       "      <td>lot_frontage</td>\n",
       "      <td>95708.735102</td>\n",
       "    </tr>\n",
       "  </tbody>\n",
       "</table>\n",
       "</div>"
      ],
      "text/plain": [
       "         Column     Intercept\n",
       "0  lot_frontage  95708.735102"
      ]
     },
     "execution_count": 15,
     "metadata": {},
     "output_type": "execute_result"
    }
   ],
   "source": [
    "pd.DataFrame(zip(X_multi.columns, model_multi.intercept_), columns = ['Column', 'Intercept'])"
   ]
  },
  {
   "cell_type": "code",
   "execution_count": 16,
   "id": "af00b635-e6cd-44e3-a36a-edd144d039ba",
   "metadata": {},
   "outputs": [
    {
     "name": "stdout",
     "output_type": "stream",
     "text": [
      "                            OLS Regression Results                            \n",
      "==============================================================================\n",
      "Dep. Variable:         ave_sale_price   R-squared:                       0.156\n",
      "Model:                            OLS   Adj. R-squared:                  0.154\n",
      "Method:                 Least Squares   F-statistic:                     110.4\n",
      "Date:                Sun, 28 May 2023   Prob (F-statistic):           9.79e-45\n",
      "Time:                        11:36:37   Log-Likelihood:                -15211.\n",
      "No. Observations:                1201   AIC:                         3.043e+04\n",
      "Df Residuals:                    1198   BIC:                         3.044e+04\n",
      "Df Model:                           2                                         \n",
      "Covariance Type:            nonrobust                                         \n",
      "================================================================================\n",
      "                   coef    std err          t      P>|t|      [0.025      0.975]\n",
      "--------------------------------------------------------------------------------\n",
      "const         9.571e+04   6758.772     14.161      0.000    8.24e+04    1.09e+05\n",
      "lot_frontage   919.2730    100.767      9.123      0.000     721.573    1116.973\n",
      "lot_area         2.0767      0.309      6.725      0.000       1.471       2.683\n",
      "==============================================================================\n",
      "Omnibus:                      407.491   Durbin-Watson:                   2.001\n",
      "Prob(Omnibus):                  0.000   Jarque-Bera (JB):             2025.520\n",
      "Skew:                           1.504   Prob(JB):                         0.00\n",
      "Kurtosis:                       8.606   Cond. No.                     3.89e+04\n",
      "==============================================================================\n",
      "\n",
      "Notes:\n",
      "[1] Standard Errors assume that the covariance matrix of the errors is correctly specified.\n",
      "[2] The condition number is large, 3.89e+04. This might indicate that there are\n",
      "strong multicollinearity or other numerical problems.\n"
     ]
    }
   ],
   "source": [
    "multi_X = sm.add_constant(X_multi)\n",
    "model = sm.OLS(uni.ave_sale_price, multi_X)\n",
    "results = model.fit()\n",
    "print(results.summary())"
   ]
  },
  {
   "cell_type": "markdown",
   "id": "bc0c53f6-4fe5-4570-afaa-2b9df6bca3c1",
   "metadata": {},
   "source": [
    "# Slope and Intercept Calcualtions for Linear Regression - Multivariate"
   ]
  },
  {
   "cell_type": "code",
   "execution_count": 17,
   "id": "33924bb6-e6ce-4fa2-9fbc-70138160d82f",
   "metadata": {},
   "outputs": [
    {
     "ename": "NameError",
     "evalue": "name 'diabetes_dataset_df' is not defined",
     "output_type": "error",
     "traceback": [
      "\u001b[0;31m---------------------------------------------------------------------------\u001b[0m",
      "\u001b[0;31mNameError\u001b[0m                                 Traceback (most recent call last)",
      "Input \u001b[0;32mIn [17]\u001b[0m, in \u001b[0;36m<cell line: 1>\u001b[0;34m()\u001b[0m\n\u001b[0;32m----> 1\u001b[0m X_dia_multi \u001b[38;5;241m=\u001b[39m \u001b[43mdiabetes_dataset_df\u001b[49m\u001b[38;5;241m.\u001b[39mdrop(\u001b[38;5;124m'\u001b[39m\u001b[38;5;124mdisease_progression\u001b[39m\u001b[38;5;124m'\u001b[39m, axis \u001b[38;5;241m=\u001b[39m \u001b[38;5;241m1\u001b[39m)\n\u001b[1;32m      2\u001b[0m X_dia_multi\u001b[38;5;241m.\u001b[39mhead()\n",
      "\u001b[0;31mNameError\u001b[0m: name 'diabetes_dataset_df' is not defined"
     ]
    }
   ],
   "source": [
    "X_dia_multi = diabetes_dataset_df.drop('disease_progression', axis = 1)\n",
    "X_dia_multi.head()"
   ]
  },
  {
   "cell_type": "code",
   "execution_count": null,
   "id": "6dead454-0cd2-449e-b402-ef0e668af96a",
   "metadata": {},
   "outputs": [],
   "source": [
    "X_dia_multi_anova = sm.add_constant(X_dia_multi)\n",
    "model = sm.OLS(y_dia, X_dia_multi_anova)\n",
    "results = model.fit()\n",
    "print(results.summary())"
   ]
  },
  {
   "cell_type": "code",
   "execution_count": null,
   "id": "df3dbb1c-85af-4f0e-95c3-223193d26489",
   "metadata": {},
   "outputs": [],
   "source": [
    "ax = plt.gcf()\n",
    "ax.set_size_inches(22, 10)\n",
    "ax = sns.barplot(data = diabetes_dataset_df, x = 'sex', y = 'disease_progression', ci = None)\n",
    "plt.title('Sex Against Disease Progression Findings', size = 30)\n",
    "plt.xlabel('Sex', size = 22)\n",
    "plt.ylabel('Disease Progression Rate', size = 22)\n",
    "ax;"
   ]
  },
  {
   "cell_type": "code",
   "execution_count": null,
   "id": "821d3b05-7fdc-4df9-9042-993cc308b4c7",
   "metadata": {},
   "outputs": [],
   "source": [
    "diabetes_dataset_df.groupby('sex').mean()"
   ]
  },
  {
   "cell_type": "markdown",
   "id": "3af6a52f-d8b6-4b3c-97b2-df151c5696fd",
   "metadata": {},
   "source": [
    "# Demo For Logistic Regression - Binary Categorical Target"
   ]
  },
  {
   "cell_type": "code",
   "execution_count": null,
   "id": "9fa4c665-c4eb-4d0a-937f-d60b4fbc1161",
   "metadata": {},
   "outputs": [],
   "source": [
    "bc_dataset = sklearn.datasets.load_breast_cancer() #binary-class example"
   ]
  },
  {
   "cell_type": "code",
   "execution_count": null,
   "id": "ea953960-fc97-4075-af41-8c81b8a52858",
   "metadata": {},
   "outputs": [],
   "source": [
    "bc_dataset_df = pd.DataFrame(bc_dataset.data, columns = bc_dataset.feature_names)\n",
    "bc_dataset_df['cancer'] = bc_dataset.target\n",
    "\n",
    "# Rename columns with underscores\n",
    "for col in bc_dataset_df.columns:\n",
    "    bc_dataset_df.rename(columns = {col: col.replace(' ', '_')}, inplace = True)\n",
    "    \n",
    "bc_dataset_df.head()"
   ]
  },
  {
   "cell_type": "code",
   "execution_count": null,
   "id": "68c7cbce-2bba-4747-9fc7-6148df200a76",
   "metadata": {},
   "outputs": [],
   "source": [
    "bc_dataset_df.info()"
   ]
  },
  {
   "cell_type": "markdown",
   "id": "170a1ecc-e651-4738-baf2-05a2a0615ac9",
   "metadata": {},
   "source": [
    "# ANOVA For Logistic Regression (Binary)\n",
    "I will only use the first three columns to avoid the model iterating too many times:"
   ]
  },
  {
   "cell_type": "code",
   "execution_count": null,
   "id": "b817e47a-30c6-4f15-87d4-9d1bde6dcba4",
   "metadata": {},
   "outputs": [],
   "source": [
    "X_bc_anova = bc_dataset_df[['mean_radius', 'mean_texture','mean_perimeter']]\n",
    "X_bc_anova.head()"
   ]
  },
  {
   "cell_type": "code",
   "execution_count": null,
   "id": "a051e82a-06d5-43ae-8858-08f5554546dc",
   "metadata": {},
   "outputs": [],
   "source": [
    "y_bc_anova = bc_dataset_df[['cancer']]\n",
    "y_bc_anova.head()"
   ]
  },
  {
   "cell_type": "code",
   "execution_count": null,
   "id": "1b006445-f74f-4ce0-ac44-8a281c203e29",
   "metadata": {},
   "outputs": [],
   "source": [
    "model = sm.Logit(y_bc_anova, X_bc_anova)\n",
    "results = model.fit()\n",
    "print(results.summary())"
   ]
  },
  {
   "cell_type": "markdown",
   "id": "7ae5adb1-5fe7-4de5-8986-53652a519c24",
   "metadata": {},
   "source": [
    "# Demo For Logistic Regression - Trinary Categorical Target"
   ]
  },
  {
   "cell_type": "code",
   "execution_count": null,
   "id": "48ac4423-90d1-4647-8abf-2246741d9408",
   "metadata": {},
   "outputs": [],
   "source": [
    "iris_dataset = sklearn.datasets.load_iris(as_frame = True) #trinary-class example"
   ]
  },
  {
   "cell_type": "code",
   "execution_count": null,
   "id": "168d2ba1-cd54-4c99-be18-d6445618eac6",
   "metadata": {
    "tags": []
   },
   "outputs": [],
   "source": [
    "#iris_dataset"
   ]
  },
  {
   "cell_type": "markdown",
   "id": "dced0b81-be90-419a-9432-4ff5f5c7320d",
   "metadata": {},
   "source": [
    "Target species per target_names documentation above:\n",
    "0 - setosa\n",
    "1 - versicolor\n",
    "2 - virginica"
   ]
  },
  {
   "cell_type": "code",
   "execution_count": null,
   "id": "fd3cb88a-cc14-4272-9a64-1c66fcafe136",
   "metadata": {},
   "outputs": [],
   "source": [
    "iris_dataset_df = pd.DataFrame(iris_dataset.data, columns = iris_dataset.feature_names)\n",
    "iris_dataset_df['species'] = iris_dataset.target\n",
    "\n",
    "# Rename columns with underscores\n",
    "for col in iris_dataset_df.columns:\n",
    "    iris_dataset_df.rename(columns = {col: col.replace(' ', '_')}, inplace = True)\n",
    "    \n",
    "iris_dataset_df.head()"
   ]
  },
  {
   "cell_type": "code",
   "execution_count": null,
   "id": "3a9d55e7-855a-4b10-9df4-988036c3d9b1",
   "metadata": {},
   "outputs": [],
   "source": [
    "iris_dataset_df.info()"
   ]
  },
  {
   "cell_type": "code",
   "execution_count": null,
   "id": "5f7a129a-e719-414b-a68a-9fb36f8a2858",
   "metadata": {},
   "outputs": [],
   "source": [
    "iris_dataset_df['species'].value_counts()"
   ]
  },
  {
   "cell_type": "markdown",
   "id": "3ee87459-9494-4b12-a26e-9795d9e4b84d",
   "metadata": {
    "tags": []
   },
   "source": [
    "# ANOVA For Logistic Regression (Trinary)"
   ]
  },
  {
   "cell_type": "code",
   "execution_count": null,
   "id": "2432bd1c-0a55-4567-8846-c48aceb1a71b",
   "metadata": {},
   "outputs": [],
   "source": [
    "X_iris = iris_dataset_df.drop('species', axis = 1)\n",
    "X_iris.head()"
   ]
  },
  {
   "cell_type": "code",
   "execution_count": null,
   "id": "60e8c5b9-63db-4d9d-b9e7-a810a95f240b",
   "metadata": {},
   "outputs": [],
   "source": [
    "y_iris_anova = iris_dataset_df[['species']]\n",
    "y_iris_anova.head()"
   ]
  },
  {
   "cell_type": "code",
   "execution_count": null,
   "id": "b8019985-d65f-4cd8-9e71-092fb48d34a9",
   "metadata": {},
   "outputs": [],
   "source": [
    "X_iris_multi = iris_dataset_df[['sepal_length_(cm)']]\n",
    "X_iris_multi.head()"
   ]
  },
  {
   "cell_type": "code",
   "execution_count": null,
   "id": "de35cf7a-94b1-4787-a103-77a5b5ea5e93",
   "metadata": {},
   "outputs": [],
   "source": [
    "X_iris_anova = sm.add_constant(X_iris_multi)\n",
    "model = sm.MNLogit(y_iris_anova, X_iris_anova)\n",
    "results = model.fit(method = 'bfgs')\n",
    "print(results.summary())"
   ]
  },
  {
   "cell_type": "markdown",
   "id": "99df111f-bfe4-486c-bdc2-76b2560f4285",
   "metadata": {},
   "source": [
    "# Excel Outputs"
   ]
  },
  {
   "cell_type": "code",
   "execution_count": null,
   "id": "270cd28a-d321-4092-a341-d5fcf10fcc25",
   "metadata": {},
   "outputs": [],
   "source": [
    "# Output to excel for cross-validation with regression tool there\n",
    "ames_housing_df.to_excel('ames_housing.xlsx', index = False)"
   ]
  },
  {
   "cell_type": "code",
   "execution_count": null,
   "id": "bc09bde9-9313-4419-a9d8-a07aa91af705",
   "metadata": {},
   "outputs": [],
   "source": []
  }
 ],
 "metadata": {
  "kernelspec": {
   "display_name": "Python 3 (ipykernel)",
   "language": "python",
   "name": "python3"
  },
  "language_info": {
   "codemirror_mode": {
    "name": "ipython",
    "version": 3
   },
   "file_extension": ".py",
   "mimetype": "text/x-python",
   "name": "python",
   "nbconvert_exporter": "python",
   "pygments_lexer": "ipython3",
   "version": "3.9.12"
  }
 },
 "nbformat": 4,
 "nbformat_minor": 5
}
